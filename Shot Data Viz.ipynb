{
 "cells": [
  {
   "cell_type": "code",
   "execution_count": 1,
   "metadata": {},
   "outputs": [],
   "source": [
    "import pandas as pd\n",
    "import seaborn as sns\n",
    "import matplotlib.pyplot as plt\n",
    "plt.style.use('fivethirtyeight')\n",
    "\n",
    "\n",
    "# credit to zachwill (https://gist.github.com/zachwill/d5190af1a7f455dea45d)\n",
    "# for the seaborn color palette based on 538 data visualizations\n",
    "five_thirty_eight = [\n",
    "    \"#30a2da\",\n",
    "    \"#fc4f30\",\n",
    "    \"#e5ae38\",\n",
    "    \"#6d904f\",\n",
    "    \"#8b8b8b\",\n",
    "]\n",
    "\n",
    "sns.set_palette(five_thirty_eight)"
   ]
  },
  {
   "cell_type": "code",
   "execution_count": 2,
   "metadata": {},
   "outputs": [],
   "source": [
    "df = pd.read_csv('./shots/shot_data.csv')"
   ]
  },
  {
   "cell_type": "code",
   "execution_count": 3,
   "metadata": {},
   "outputs": [
    {
     "data": {
      "text/html": [
       "<div>\n",
       "<style scoped>\n",
       "    .dataframe tbody tr th:only-of-type {\n",
       "        vertical-align: middle;\n",
       "    }\n",
       "\n",
       "    .dataframe tbody tr th {\n",
       "        vertical-align: top;\n",
       "    }\n",
       "\n",
       "    .dataframe thead th {\n",
       "        text-align: right;\n",
       "    }\n",
       "</style>\n",
       "<table border=\"1\" class=\"dataframe\">\n",
       "  <thead>\n",
       "    <tr style=\"text-align: right;\">\n",
       "      <th></th>\n",
       "      <th>Unnamed: 0</th>\n",
       "      <th>GRID_TYPE</th>\n",
       "      <th>GAME_ID</th>\n",
       "      <th>GAME_EVENT_ID</th>\n",
       "      <th>PLAYER_ID</th>\n",
       "      <th>PLAYER_NAME</th>\n",
       "      <th>TEAM_ID</th>\n",
       "      <th>TEAM_NAME</th>\n",
       "      <th>PERIOD</th>\n",
       "      <th>MINUTES_REMAINING</th>\n",
       "      <th>...</th>\n",
       "      <th>SHOT_ZONE_AREA</th>\n",
       "      <th>SHOT_ZONE_RANGE</th>\n",
       "      <th>SHOT_DISTANCE</th>\n",
       "      <th>LOC_X</th>\n",
       "      <th>LOC_Y</th>\n",
       "      <th>SHOT_ATTEMPTED_FLAG</th>\n",
       "      <th>SHOT_MADE_FLAG</th>\n",
       "      <th>GAME_DATE</th>\n",
       "      <th>HTM</th>\n",
       "      <th>VTM</th>\n",
       "    </tr>\n",
       "  </thead>\n",
       "  <tbody>\n",
       "    <tr>\n",
       "      <th>0</th>\n",
       "      <td>0</td>\n",
       "      <td>Shot Chart Detail</td>\n",
       "      <td>21600003</td>\n",
       "      <td>19</td>\n",
       "      <td>201939</td>\n",
       "      <td>Stephen Curry</td>\n",
       "      <td>1610612744</td>\n",
       "      <td>Golden State Warriors</td>\n",
       "      <td>1</td>\n",
       "      <td>9</td>\n",
       "      <td>...</td>\n",
       "      <td>Right Side Center(RC)</td>\n",
       "      <td>24+ ft.</td>\n",
       "      <td>28</td>\n",
       "      <td>130</td>\n",
       "      <td>257</td>\n",
       "      <td>1</td>\n",
       "      <td>0</td>\n",
       "      <td>20161025</td>\n",
       "      <td>GSW</td>\n",
       "      <td>SAS</td>\n",
       "    </tr>\n",
       "    <tr>\n",
       "      <th>1</th>\n",
       "      <td>1</td>\n",
       "      <td>Shot Chart Detail</td>\n",
       "      <td>21600003</td>\n",
       "      <td>28</td>\n",
       "      <td>201939</td>\n",
       "      <td>Stephen Curry</td>\n",
       "      <td>1610612744</td>\n",
       "      <td>Golden State Warriors</td>\n",
       "      <td>1</td>\n",
       "      <td>8</td>\n",
       "      <td>...</td>\n",
       "      <td>Right Side Center(RC)</td>\n",
       "      <td>24+ ft.</td>\n",
       "      <td>25</td>\n",
       "      <td>189</td>\n",
       "      <td>174</td>\n",
       "      <td>1</td>\n",
       "      <td>1</td>\n",
       "      <td>20161025</td>\n",
       "      <td>GSW</td>\n",
       "      <td>SAS</td>\n",
       "    </tr>\n",
       "    <tr>\n",
       "      <th>2</th>\n",
       "      <td>2</td>\n",
       "      <td>Shot Chart Detail</td>\n",
       "      <td>21600003</td>\n",
       "      <td>88</td>\n",
       "      <td>201939</td>\n",
       "      <td>Stephen Curry</td>\n",
       "      <td>1610612744</td>\n",
       "      <td>Golden State Warriors</td>\n",
       "      <td>1</td>\n",
       "      <td>2</td>\n",
       "      <td>...</td>\n",
       "      <td>Right Side Center(RC)</td>\n",
       "      <td>24+ ft.</td>\n",
       "      <td>27</td>\n",
       "      <td>159</td>\n",
       "      <td>229</td>\n",
       "      <td>1</td>\n",
       "      <td>0</td>\n",
       "      <td>20161025</td>\n",
       "      <td>GSW</td>\n",
       "      <td>SAS</td>\n",
       "    </tr>\n",
       "    <tr>\n",
       "      <th>3</th>\n",
       "      <td>3</td>\n",
       "      <td>Shot Chart Detail</td>\n",
       "      <td>21600003</td>\n",
       "      <td>91</td>\n",
       "      <td>201939</td>\n",
       "      <td>Stephen Curry</td>\n",
       "      <td>1610612744</td>\n",
       "      <td>Golden State Warriors</td>\n",
       "      <td>1</td>\n",
       "      <td>2</td>\n",
       "      <td>...</td>\n",
       "      <td>Right Side Center(RC)</td>\n",
       "      <td>16-24 ft.</td>\n",
       "      <td>21</td>\n",
       "      <td>163</td>\n",
       "      <td>141</td>\n",
       "      <td>1</td>\n",
       "      <td>0</td>\n",
       "      <td>20161025</td>\n",
       "      <td>GSW</td>\n",
       "      <td>SAS</td>\n",
       "    </tr>\n",
       "    <tr>\n",
       "      <th>4</th>\n",
       "      <td>4</td>\n",
       "      <td>Shot Chart Detail</td>\n",
       "      <td>21600003</td>\n",
       "      <td>184</td>\n",
       "      <td>201939</td>\n",
       "      <td>Stephen Curry</td>\n",
       "      <td>1610612744</td>\n",
       "      <td>Golden State Warriors</td>\n",
       "      <td>2</td>\n",
       "      <td>6</td>\n",
       "      <td>...</td>\n",
       "      <td>Center(C)</td>\n",
       "      <td>24+ ft.</td>\n",
       "      <td>26</td>\n",
       "      <td>-9</td>\n",
       "      <td>267</td>\n",
       "      <td>1</td>\n",
       "      <td>1</td>\n",
       "      <td>20161025</td>\n",
       "      <td>GSW</td>\n",
       "      <td>SAS</td>\n",
       "    </tr>\n",
       "  </tbody>\n",
       "</table>\n",
       "<p>5 rows × 25 columns</p>\n",
       "</div>"
      ],
      "text/plain": [
       "   Unnamed: 0          GRID_TYPE   GAME_ID  GAME_EVENT_ID  PLAYER_ID  \\\n",
       "0           0  Shot Chart Detail  21600003             19     201939   \n",
       "1           1  Shot Chart Detail  21600003             28     201939   \n",
       "2           2  Shot Chart Detail  21600003             88     201939   \n",
       "3           3  Shot Chart Detail  21600003             91     201939   \n",
       "4           4  Shot Chart Detail  21600003            184     201939   \n",
       "\n",
       "     PLAYER_NAME     TEAM_ID              TEAM_NAME  PERIOD  \\\n",
       "0  Stephen Curry  1610612744  Golden State Warriors       1   \n",
       "1  Stephen Curry  1610612744  Golden State Warriors       1   \n",
       "2  Stephen Curry  1610612744  Golden State Warriors       1   \n",
       "3  Stephen Curry  1610612744  Golden State Warriors       1   \n",
       "4  Stephen Curry  1610612744  Golden State Warriors       2   \n",
       "\n",
       "   MINUTES_REMAINING ...          SHOT_ZONE_AREA SHOT_ZONE_RANGE  \\\n",
       "0                  9 ...   Right Side Center(RC)         24+ ft.   \n",
       "1                  8 ...   Right Side Center(RC)         24+ ft.   \n",
       "2                  2 ...   Right Side Center(RC)         24+ ft.   \n",
       "3                  2 ...   Right Side Center(RC)       16-24 ft.   \n",
       "4                  6 ...               Center(C)         24+ ft.   \n",
       "\n",
       "  SHOT_DISTANCE LOC_X LOC_Y SHOT_ATTEMPTED_FLAG SHOT_MADE_FLAG  GAME_DATE  \\\n",
       "0            28   130   257                   1              0   20161025   \n",
       "1            25   189   174                   1              1   20161025   \n",
       "2            27   159   229                   1              0   20161025   \n",
       "3            21   163   141                   1              0   20161025   \n",
       "4            26    -9   267                   1              1   20161025   \n",
       "\n",
       "   HTM  VTM  \n",
       "0  GSW  SAS  \n",
       "1  GSW  SAS  \n",
       "2  GSW  SAS  \n",
       "3  GSW  SAS  \n",
       "4  GSW  SAS  \n",
       "\n",
       "[5 rows x 25 columns]"
      ]
     },
     "execution_count": 3,
     "metadata": {},
     "output_type": "execute_result"
    }
   ],
   "source": [
    "df.head()"
   ]
  },
  {
   "cell_type": "code",
   "execution_count": 4,
   "metadata": {},
   "outputs": [
    {
     "data": {
      "text/plain": [
       "Index(['Unnamed: 0', 'GRID_TYPE', 'GAME_ID', 'GAME_EVENT_ID', 'PLAYER_ID',\n",
       "       'PLAYER_NAME', 'TEAM_ID', 'TEAM_NAME', 'PERIOD', 'MINUTES_REMAINING',\n",
       "       'SECONDS_REMAINING', 'EVENT_TYPE', 'ACTION_TYPE', 'SHOT_TYPE',\n",
       "       'SHOT_ZONE_BASIC', 'SHOT_ZONE_AREA', 'SHOT_ZONE_RANGE', 'SHOT_DISTANCE',\n",
       "       'LOC_X', 'LOC_Y', 'SHOT_ATTEMPTED_FLAG', 'SHOT_MADE_FLAG', 'GAME_DATE',\n",
       "       'HTM', 'VTM'],\n",
       "      dtype='object')"
      ]
     },
     "execution_count": 4,
     "metadata": {},
     "output_type": "execute_result"
    }
   ],
   "source": [
    "df.columns"
   ]
  },
  {
   "cell_type": "code",
   "execution_count": 5,
   "metadata": {},
   "outputs": [],
   "source": [
    "relevant_data = df.drop(['Unnamed: 0', 'GRID_TYPE', 'GAME_EVENT_ID', 'PLAYER_ID', 'TEAM_ID', 'EVENT_TYPE'], axis=1)"
   ]
  },
  {
   "cell_type": "code",
   "execution_count": 6,
   "metadata": {},
   "outputs": [
    {
     "data": {
      "text/plain": [
       "Index(['GAME_ID', 'PLAYER_NAME', 'TEAM_NAME', 'PERIOD', 'MINUTES_REMAINING',\n",
       "       'SECONDS_REMAINING', 'ACTION_TYPE', 'SHOT_TYPE', 'SHOT_ZONE_BASIC',\n",
       "       'SHOT_ZONE_AREA', 'SHOT_ZONE_RANGE', 'SHOT_DISTANCE', 'LOC_X', 'LOC_Y',\n",
       "       'SHOT_ATTEMPTED_FLAG', 'SHOT_MADE_FLAG', 'GAME_DATE', 'HTM', 'VTM'],\n",
       "      dtype='object')"
      ]
     },
     "execution_count": 6,
     "metadata": {},
     "output_type": "execute_result"
    }
   ],
   "source": [
    "relevant_data.columns"
   ]
  },
  {
   "cell_type": "code",
   "execution_count": 7,
   "metadata": {},
   "outputs": [
    {
     "data": {
      "image/png": "[encoded data removed]",
      "text/plain": [
       "<Figure size 432x288 with 1 Axes>"
      ]
     },
     "metadata": {},
     "output_type": "display_data"
    }
   ],
   "source": [
    "def proportion_of_twos_versus_threes(data):\n",
    "    grouped_shots = data.groupby(\"SHOT_TYPE\")['SHOT_TYPE']\n",
    "    plt.pie(grouped_shots.count(), labels=data.SHOT_TYPE.unique(), autopct='%1.1f%%')\n",
    "proportion_of_twos_versus_threes(relevant_data)"
   ]
  },
  {
   "cell_type": "code",
   "execution_count": 8,
   "metadata": {},
   "outputs": [
    {
     "data": {
      "text/html": [
       "<div>\n",
       "<style scoped>\n",
       "    .dataframe tbody tr th:only-of-type {\n",
       "        vertical-align: middle;\n",
       "    }\n",
       "\n",
       "    .dataframe tbody tr th {\n",
       "        vertical-align: top;\n",
       "    }\n",
       "\n",
       "    .dataframe thead th {\n",
       "        text-align: right;\n",
       "    }\n",
       "</style>\n",
       "<table border=\"1\" class=\"dataframe\">\n",
       "  <thead>\n",
       "    <tr style=\"text-align: right;\">\n",
       "      <th></th>\n",
       "      <th>Rk</th>\n",
       "      <th>Season</th>\n",
       "      <th>Lg</th>\n",
       "      <th>Age</th>\n",
       "      <th>Ht</th>\n",
       "      <th>Wt</th>\n",
       "      <th>G</th>\n",
       "      <th>MP</th>\n",
       "      <th>FG</th>\n",
       "      <th>FGA</th>\n",
       "      <th>...</th>\n",
       "      <th>PTS</th>\n",
       "      <th>FG%</th>\n",
       "      <th>3P%</th>\n",
       "      <th>FT%</th>\n",
       "      <th>Pace</th>\n",
       "      <th>eFG%</th>\n",
       "      <th>TOV%</th>\n",
       "      <th>ORB%</th>\n",
       "      <th>FT/FGA</th>\n",
       "      <th>ORtg</th>\n",
       "    </tr>\n",
       "  </thead>\n",
       "  <tbody>\n",
       "    <tr>\n",
       "      <th>0</th>\n",
       "      <td>1</td>\n",
       "      <td>2018-19</td>\n",
       "      <td>NBA</td>\n",
       "      <td>26.3</td>\n",
       "      <td>6-7</td>\n",
       "      <td>218</td>\n",
       "      <td>1230</td>\n",
       "      <td>241.6</td>\n",
       "      <td>41.1</td>\n",
       "      <td>89.2</td>\n",
       "      <td>...</td>\n",
       "      <td>111.2</td>\n",
       "      <td>0.461</td>\n",
       "      <td>0.355</td>\n",
       "      <td>0.766</td>\n",
       "      <td>100.0</td>\n",
       "      <td>0.524</td>\n",
       "      <td>12.4</td>\n",
       "      <td>22.9</td>\n",
       "      <td>0.198</td>\n",
       "      <td>110.4</td>\n",
       "    </tr>\n",
       "    <tr>\n",
       "      <th>1</th>\n",
       "      <td>2</td>\n",
       "      <td>2017-18</td>\n",
       "      <td>NBA</td>\n",
       "      <td>26.4</td>\n",
       "      <td>6-7</td>\n",
       "      <td>219</td>\n",
       "      <td>1230</td>\n",
       "      <td>241.4</td>\n",
       "      <td>39.6</td>\n",
       "      <td>86.1</td>\n",
       "      <td>...</td>\n",
       "      <td>106.3</td>\n",
       "      <td>0.460</td>\n",
       "      <td>0.362</td>\n",
       "      <td>0.767</td>\n",
       "      <td>97.3</td>\n",
       "      <td>0.521</td>\n",
       "      <td>13.0</td>\n",
       "      <td>22.3</td>\n",
       "      <td>0.193</td>\n",
       "      <td>108.6</td>\n",
       "    </tr>\n",
       "    <tr>\n",
       "      <th>2</th>\n",
       "      <td>3</td>\n",
       "      <td>2016-17</td>\n",
       "      <td>NBA</td>\n",
       "      <td>26.6</td>\n",
       "      <td>6-7</td>\n",
       "      <td>220</td>\n",
       "      <td>1230</td>\n",
       "      <td>241.6</td>\n",
       "      <td>39.0</td>\n",
       "      <td>85.4</td>\n",
       "      <td>...</td>\n",
       "      <td>105.6</td>\n",
       "      <td>0.457</td>\n",
       "      <td>0.358</td>\n",
       "      <td>0.772</td>\n",
       "      <td>96.4</td>\n",
       "      <td>0.514</td>\n",
       "      <td>12.7</td>\n",
       "      <td>23.3</td>\n",
       "      <td>0.209</td>\n",
       "      <td>108.8</td>\n",
       "    </tr>\n",
       "    <tr>\n",
       "      <th>3</th>\n",
       "      <td>4</td>\n",
       "      <td>2015-16</td>\n",
       "      <td>NBA</td>\n",
       "      <td>26.7</td>\n",
       "      <td>6-7</td>\n",
       "      <td>221</td>\n",
       "      <td>1230</td>\n",
       "      <td>241.8</td>\n",
       "      <td>38.2</td>\n",
       "      <td>84.6</td>\n",
       "      <td>...</td>\n",
       "      <td>102.7</td>\n",
       "      <td>0.452</td>\n",
       "      <td>0.354</td>\n",
       "      <td>0.757</td>\n",
       "      <td>95.8</td>\n",
       "      <td>0.502</td>\n",
       "      <td>13.2</td>\n",
       "      <td>23.8</td>\n",
       "      <td>0.209</td>\n",
       "      <td>106.4</td>\n",
       "    </tr>\n",
       "    <tr>\n",
       "      <th>4</th>\n",
       "      <td>5</td>\n",
       "      <td>2014-15</td>\n",
       "      <td>NBA</td>\n",
       "      <td>26.7</td>\n",
       "      <td>6-7</td>\n",
       "      <td>222</td>\n",
       "      <td>1230</td>\n",
       "      <td>242.0</td>\n",
       "      <td>37.5</td>\n",
       "      <td>83.6</td>\n",
       "      <td>...</td>\n",
       "      <td>100.0</td>\n",
       "      <td>0.449</td>\n",
       "      <td>0.350</td>\n",
       "      <td>0.750</td>\n",
       "      <td>93.9</td>\n",
       "      <td>0.496</td>\n",
       "      <td>13.3</td>\n",
       "      <td>25.1</td>\n",
       "      <td>0.205</td>\n",
       "      <td>105.6</td>\n",
       "    </tr>\n",
       "  </tbody>\n",
       "</table>\n",
       "<p>5 rows × 32 columns</p>\n",
       "</div>"
      ],
      "text/plain": [
       "   Rk   Season   Lg   Age   Ht   Wt     G     MP    FG   FGA  ...      PTS  \\\n",
       "0   1  2018-19  NBA  26.3  6-7  218  1230  241.6  41.1  89.2  ...    111.2   \n",
       "1   2  2017-18  NBA  26.4  6-7  219  1230  241.4  39.6  86.1  ...    106.3   \n",
       "2   3  2016-17  NBA  26.6  6-7  220  1230  241.6  39.0  85.4  ...    105.6   \n",
       "3   4  2015-16  NBA  26.7  6-7  221  1230  241.8  38.2  84.6  ...    102.7   \n",
       "4   5  2014-15  NBA  26.7  6-7  222  1230  242.0  37.5  83.6  ...    100.0   \n",
       "\n",
       "     FG%    3P%    FT%   Pace   eFG%  TOV%  ORB%  FT/FGA   ORtg  \n",
       "0  0.461  0.355  0.766  100.0  0.524  12.4  22.9   0.198  110.4  \n",
       "1  0.460  0.362  0.767   97.3  0.521  13.0  22.3   0.193  108.6  \n",
       "2  0.457  0.358  0.772   96.4  0.514  12.7  23.3   0.209  108.8  \n",
       "3  0.452  0.354  0.757   95.8  0.502  13.2  23.8   0.209  106.4  \n",
       "4  0.449  0.350  0.750   93.9  0.496  13.3  25.1   0.205  105.6  \n",
       "\n",
       "[5 rows x 32 columns]"
      ]
     },
     "execution_count": 8,
     "metadata": {},
     "output_type": "execute_result"
    }
   ],
   "source": [
    "league_data = pd.read_csv('./data/league_averages.csv')\n",
    "league_data.head()"
   ]
  },
  {
   "cell_type": "code",
   "execution_count": 9,
   "metadata": {},
   "outputs": [
    {
     "data": {
      "text/plain": [
       "Index(['Rk', 'Season', 'Lg', 'Age', 'Ht', 'Wt', 'G', 'MP', 'FG', 'FGA', '3P',\n",
       "       '3PA', 'FT', 'FTA', 'ORB', 'DRB', 'TRB', 'AST', 'STL', 'BLK', 'TOV',\n",
       "       'PF', 'PTS', 'FG%', '3P%', 'FT%', 'Pace', 'eFG%', 'TOV%', 'ORB%',\n",
       "       'FT/FGA', 'ORtg'],\n",
       "      dtype='object')"
      ]
     },
     "execution_count": 9,
     "metadata": {},
     "output_type": "execute_result"
    }
   ],
   "source": [
    "league_data.columns"
   ]
  },
  {
   "cell_type": "code",
   "execution_count": 10,
   "metadata": {},
   "outputs": [],
   "source": [
    "league_data = league_data.drop(['Lg', 'Age', 'Ht', 'Wt', 'G'], axis=1)"
   ]
  },
  {
   "cell_type": "code",
   "execution_count": 11,
   "metadata": {},
   "outputs": [],
   "source": [
    "league_data.head()\n",
    "league_data['Year'] = league_data['Season']"
   ]
  },
  {
   "cell_type": "code",
   "execution_count": 12,
   "metadata": {},
   "outputs": [],
   "source": [
    "for i, row in league_data.iterrows():\n",
    "    res = league_data.at[i, 'Year'].split('-')\n",
    "    league_data.at[i, 'Year'] = '20' + res[1]"
   ]
  },
  {
   "cell_type": "code",
   "execution_count": 13,
   "metadata": {},
   "outputs": [
    {
     "data": {
      "text/plain": [
       "<Figure size 1152x432 with 0 Axes>"
      ]
     },
     "execution_count": 13,
     "metadata": {},
     "output_type": "execute_result"
    },
    {
     "data": {
      "text/plain": [
       "<Figure size 1152x432 with 0 Axes>"
      ]
     },
     "metadata": {},
     "output_type": "display_data"
    }
   ],
   "source": [
    "plt.figure(figsize=(16,6))"
   ]
  },
  {
   "cell_type": "code",
   "execution_count": 14,
   "metadata": {},
   "outputs": [
    {
     "data": {
      "text/plain": [
       "<matplotlib.axes._subplots.AxesSubplot at 0x108dbea90>"
      ]
     },
     "execution_count": 14,
     "metadata": {},
     "output_type": "execute_result"
    },
    {
     "data": {
      "image/png": "[encoded data removed]",
      "text/plain": [
       "<Figure size 936x432 with 1 Axes>"
      ]
     },
     "metadata": {},
     "output_type": "display_data"
    }
   ],
   "source": [
    "plt.figure(figsize=(13, 6))\n",
    "sns.lineplot(x='Year', y='3PA', data=league_data, palette=five_thirty_eight)"
   ]
  },
  {
   "cell_type": "code",
   "execution_count": 15,
   "metadata": {},
   "outputs": [],
   "source": [
    "player_data = pd.read_csv('./data/player_data.csv')"
   ]
  },
  {
   "cell_type": "code",
   "execution_count": 16,
   "metadata": {},
   "outputs": [],
   "source": [
    "player_data = player_data.drop(['Rk', 'Unnamed: 0'], axis=1)"
   ]
  },
  {
   "cell_type": "code",
   "execution_count": 17,
   "metadata": {},
   "outputs": [
    {
     "data": {
      "text/plain": [
       "Index(['Player', 'Pos', 'Age', 'Tm', 'G', 'GS', 'MP', 'FG', 'FGA', 'FG%', '3P',\n",
       "       '3PA', '3P%', '2P', '2PA', '2P%', 'eFG%', 'FT', 'FTA', 'FT%', 'ORB',\n",
       "       'DRB', 'TRB', 'AST', 'STL', 'BLK', 'TOV', 'PF', 'PTS', 'Year'],\n",
       "      dtype='object')"
      ]
     },
     "execution_count": 17,
     "metadata": {},
     "output_type": "execute_result"
    }
   ],
   "source": [
    "player_data.columns"
   ]
  },
  {
   "cell_type": "code",
   "execution_count": 18,
   "metadata": {},
   "outputs": [],
   "source": [
    "three_pointers_by_year = player_data.groupby('Year')['3PA'].sum()"
   ]
  },
  {
   "cell_type": "code",
   "execution_count": 19,
   "metadata": {},
   "outputs": [
    {
     "data": {
      "image/png": "[encoded data removed]",
      "text/plain": [
       "<Figure size 360x1440 with 1 Axes>"
      ]
     },
     "metadata": {},
     "output_type": "display_data"
    }
   ],
   "source": [
    "import numpy as np\n",
    "plt.figure(figsize=(5,20))\n",
    "sns.lineplot(x='Year', y='3PA', data=player_data)\n",
    "plt.show()"
   ]
  },
  {
   "cell_type": "code",
   "execution_count": null,
   "metadata": {},
   "outputs": [],
   "source": []
  }
 ],
 "metadata": {
  "kernelspec": {
   "display_name": "Python 3",
   "language": "python",
   "name": "python3"
  },
  "language_info": {
   "codemirror_mode": {
    "name": "ipython",
    "version": 3
   },
   "file_extension": ".py",
   "mimetype": "text/x-python",
   "name": "python",
   "nbconvert_exporter": "python",
   "pygments_lexer": "ipython3",
   "version": "3.6.7"
  }
 },
 "nbformat": 4,
 "nbformat_minor": 2
}
