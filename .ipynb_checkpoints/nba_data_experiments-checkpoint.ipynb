{
 "cells": [
  {
   "cell_type": "markdown",
   "metadata": {},
   "source": [
    "# Aashray Anand\n",
    "5/24/2019, 11:20 PM\n",
    " \n",
    "This notebook contains different experiments, working with the\n",
    " \n",
    "NBA stats data from the below blog post, and practicing using pyspark\n",
    "\n",
    "\"Using Apache Spark for Sports Analytics: https://content.pivotal.io/blog/how-data-science-assists-sports\""
   ]
  },
  {
   "cell_type": "code",
   "execution_count": null,
   "metadata": {},
   "outputs": [],
   "source": [
    "import pandas as pd\n",
    "import matplotlib.pyplot as plt\n",
    "import seaborn as sns\n",
    "import pyspark as spark"
   ]
  },
  {
   "cell_type": "code",
   "execution_count": null,
   "metadata": {},
   "outputs": [],
   "source": [
    "shots = pd.read_csv('./shots/current_year_shot_data.csv')"
   ]
  },
  {
   "cell_type": "code",
   "execution_count": null,
   "metadata": {},
   "outputs": [],
   "source": [
    "shots.columns\n",
    "shots['YEAR'] = shots['GAME_DATE'].astype(str)\n",
    "for i, row in shots.iterrows():\n",
    "    res = shots.at[i, 'YEAR']\n",
    "    shots.at[i, 'YEAR'] = res[0:4]\n",
    "shots['YEAR'] = shots['YEAR'].astype(int)"
   ]
  },
  {
   "cell_type": "code",
   "execution_count": null,
   "metadata": {},
   "outputs": [],
   "source": [
    "steph = shots[(shots['PLAYER_NAME'] == 'Stephen Curry')]"
   ]
  },
  {
   "cell_type": "code",
   "execution_count": null,
   "metadata": {},
   "outputs": [],
   "source": [
    "steph"
   ]
  },
  {
   "cell_type": "code",
   "execution_count": null,
   "metadata": {},
   "outputs": [],
   "source": [
    "# we can draw a set of matplotlib shapes on the above plot, to be able to build a more powerful data visualization\n",
    "from matplotlib.patches import Circle, Rectangle, Arc\n",
    "\n",
    "def make_court(ax=None, color='black', lw=2, outer_lines=False):\n",
    "    if ax is None:\n",
    "        ax = plt.gca()\n",
    "    elem = []\n",
    "    rim = Circle((0,0), radius=7.5, linewidth=lw, color=color, fill=False)\n",
    "    elem.append(rim)\n",
    "    corner_three_a = Rectangle((-220, -47.5), 0, 140, linewidth=lw,\n",
    "                               color=color)\n",
    "    elem.append(corner_three_a)\n",
    "    corner_three_b = Rectangle((220, -47.5), 0, 140, linewidth=lw, color=color)\n",
    "    elem.append(corner_three_b)\n",
    "    three_arc = Arc((0, 0), 475, 475, theta1=22, theta2=158, linewidth=lw,\n",
    "                    color=color)\n",
    "    elem.append(three_arc)\n",
    "    backboard = Rectangle((-30, -7.5), 60, -1, linewidth=lw, color=color)\n",
    "\n",
    "    # The paint\n",
    "    # Create the outer box 0f the paint, width=16ft, height=19ft\n",
    "    outer_box = Rectangle((-80, -47.5), 160, 190, linewidth=lw, color=color,\n",
    "                          fill=False)\n",
    "    # Create the inner box of the paint, widt=12ft, height=19ft\n",
    "    inner_box = Rectangle((-60, -47.5), 120, 190, linewidth=lw, color=color,\n",
    "                          fill=False)\n",
    "\n",
    "    # Create free throw top arc\n",
    "    top_free_throw = Arc((0, 142.5), 120, 120, theta1=0, theta2=180,\n",
    "                         linewidth=lw, color=color, fill=False)\n",
    "    # Create free throw bottom arc\n",
    "    bottom_free_throw = Arc((0, 142.5), 120, 120, theta1=180, theta2=0,\n",
    "                            linewidth=lw, color=color, linestyle='dashed')\n",
    "    # Restricted Zone, it is an arc with 4ft radius from center of the hoop\n",
    "    restricted = Arc((0, 0), 80, 80, theta1=0, theta2=180, linewidth=lw,\n",
    "                     color=color)\n",
    "    center_outer_arc = Arc((0, 422.5), 120, 120, theta1=180, theta2=0,\n",
    "                           linewidth=lw, color=color)\n",
    "    center_inner_arc = Arc((0, 422.5), 40, 40, theta1=180, theta2=0,\n",
    "                           linewidth=lw, color=color)\n",
    "    back_bound = Rectangle((-250,-47.5), 500, 0, color=color, linewidth=lw)\n",
    "    left_bound = Rectangle((-250,-47.5), 0, 470, color=color, linewidth=lw)\n",
    "    right_bound = Rectangle((250,-47.5), 0, 470, color=color, linewidth=lw)\n",
    "    center_court = Rectangle((-250, 422.5), 500, 0, color=color, linewidth=lw)\n",
    "    elem.append(center_inner_arc)\n",
    "    elem.append(center_outer_arc)\n",
    "    elem.append(backboard)\n",
    "    elem.append(outer_box)\n",
    "    elem.append(inner_box)\n",
    "    elem.append(top_free_throw)\n",
    "    elem.append(bottom_free_throw)\n",
    "    elem.append(restricted)\n",
    "    elem.append(back_bound)\n",
    "    elem.append(left_bound)\n",
    "    elem.append(right_bound)\n",
    "    elem.append(center_court)\n",
    "    for e in elem:\n",
    "        ax.add_patch(e)\n",
    "    return ax"
   ]
  },
  {
   "cell_type": "code",
   "execution_count": null,
   "metadata": {},
   "outputs": [],
   "source": [
    "def make_shot_chart(name, ax=None):\n",
    "    data = shots[(shots['PLAYER_NAME'] == name)]\n",
    "    plt.figure(num=None, figsize=(11, 11), dpi=80, facecolor='w', edgecolor='k')\n",
    "    ax = plt.gca() if ax is None else ax\n",
    "    make_court(ax=ax, outer_lines=True)\n",
    "    sns.scatterplot(x=\"LOC_X\", y=\"LOC_Y\", data=data, hue='SHOT_MADE_FLAG', ax=ax)\n",
    "    plt.xlim(-300,300)\n",
    "    plt.ylim(-100,500)\n",
    "    plt.xlabel(\"\")\n",
    "    plt.ylabel(\"\")\n",
    "    plt.title(\"Shot chart: {}\".format(name))\n",
    "    plt.show()\n",
    "make_shot_chart(\"Stephen Curry\")"
   ]
  },
  {
   "cell_type": "code",
   "execution_count": null,
   "metadata": {},
   "outputs": [],
   "source": [
    "shots.PLAYER_NAME.unique()"
   ]
  },
  {
   "cell_type": "code",
   "execution_count": null,
   "metadata": {},
   "outputs": [],
   "source": [
    "averages = pd.read_csv('./data/player_averages.csv')\n",
    "averages.columns"
   ]
  },
  {
   "cell_type": "code",
   "execution_count": null,
   "metadata": {},
   "outputs": [],
   "source": [
    "averages['Year'] = averages['Year'].fillna(0)"
   ]
  },
  {
   "cell_type": "code",
   "execution_count": null,
   "metadata": {},
   "outputs": [],
   "source": [
    "averages['Year'] = averages['Year'].astype(int)\n",
    "rel_averages = averages[averages['Year'] == 2019]"
   ]
  },
  {
   "cell_type": "code",
   "execution_count": null,
   "metadata": {},
   "outputs": [],
   "source": [
    "massive_data_set = pd.merge(shots, rel_averages, how='inner', left_on='YEAR', right_on='Year')"
   ]
  },
  {
   "cell_type": "code",
   "execution_count": null,
   "metadata": {},
   "outputs": [],
   "source": [
    "massive_data_set.columns"
   ]
  },
  {
   "cell_type": "code",
   "execution_count": null,
   "metadata": {},
   "outputs": [],
   "source": [
    "rel_data = massive_data_set.drop(['Unnamed: 0_x', 'GRID_TYPE', 'STL', 'BLK', 'TOV', 'PF', 'ORB', 'DRB', 'AST', 'Unnamed: 0_y'], axis=1)"
   ]
  },
  {
   "cell_type": "code",
   "execution_count": null,
   "metadata": {},
   "outputs": [],
   "source": []
  }
 ],
 "metadata": {
  "kernelspec": {
   "display_name": "Python 3",
   "language": "python",
   "name": "python3"
  },
  "language_info": {
   "codemirror_mode": {
    "name": "ipython",
    "version": 3
   },
   "file_extension": ".py",
   "mimetype": "text/x-python",
   "name": "python",
   "nbconvert_exporter": "python",
   "pygments_lexer": "ipython3",
   "version": "3.6.7"
  }
 },
 "nbformat": 4,
 "nbformat_minor": 2
}
